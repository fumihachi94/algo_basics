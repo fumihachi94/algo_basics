{
 "cells": [
  {
   "cell_type": "markdown",
   "id": "b4f5e313",
   "metadata": {},
   "source": [
    "# 最小二乗法"
   ]
  },
  {
   "cell_type": "code",
   "execution_count": 1,
   "id": "cb8c8ed4",
   "metadata": {},
   "outputs": [],
   "source": [
    "%matplotlib inline\n",
    "import numpy as np\n",
    "from numpy.random import *\n",
    "import matplotlib.pyplot as plt"
   ]
  },
  {
   "cell_type": "code",
   "execution_count": 2,
   "id": "fd06f8d6",
   "metadata": {},
   "outputs": [],
   "source": [
    "n = 50\n",
    "N = 1000\n",
    "ep = 0.05 #エラー率 [%]\n",
    "x = np.linspace(-3, 3, n)\n",
    "X = np.linspace(-3, 3, N)"
   ]
  },
  {
   "cell_type": "code",
   "execution_count": 3,
   "id": "1f57e8fe",
   "metadata": {},
   "outputs": [],
   "source": [
    "y = np.sin(np.pi * x)/(np.pi*x) + ep*rand(n)"
   ]
  },
  {
   "cell_type": "markdown",
   "id": "15218489",
   "metadata": {},
   "source": [
    "## 基本的な線形モデル\n",
    "\n",
    "基底関数\n",
    "三角多項基底関数を利用して解いてみる\n",
    "$$\n",
    "\\Psi(x) = (1, sin\\frac{x}{2}, cos\\frac{x}{2}, sin\\frac{2x}{2}, con\\frac{x}{2}, ... , , sin\\frac{15x}{2}, cos\\frac{15x}{2}) \n",
    "$$"
   ]
  },
  {
   "cell_type": "code",
   "execution_count": 4,
   "id": "f6538c21",
   "metadata": {},
   "outputs": [],
   "source": [
    "# 計画行列Φを求める\n",
    "k = 15\n",
    "p = np.ones([2*(k+1),n])\n",
    "P = np.ones([2*(k+1),N])\n",
    "for j in range(1, k+1):\n",
    "    p [2*j]      = np.sin(0.5*j*x)\n",
    "    p [2*j+1] = np.cos(0.5*j*x)\n",
    "    P [2*j]      = np.sin(0.5*j*X)\n",
    "    P [2*j+1] = np.cos(0.5*j*X)\n",
    "    \n",
    "t = np.linalg.pinv(p).T.dot(y)\n",
    "F = P.T.dot(t)"
   ]
  },
  {
   "cell_type": "code",
   "execution_count": 5,
   "id": "289e2981",
   "metadata": {},
   "outputs": [
    {
     "data": {
      "image/png": "[encoded data removed]",
      "text/plain": [
       "<Figure size 432x288 with 1 Axes>"
      ]
     },
     "metadata": {
      "needs_background": "light"
     },
     "output_type": "display_data"
    }
   ],
   "source": [
    "plt.plot(x, y, 'o')\n",
    "plt.plot(X, F)\n",
    "plt.show()"
   ]
  },
  {
   "cell_type": "markdown",
   "id": "2c4dff87",
   "metadata": {},
   "source": [
    "---"
   ]
  },
  {
   "cell_type": "markdown",
   "id": "a7994439",
   "metadata": {},
   "source": [
    "## 確立的勾配法\n",
    "ガウスカーネルモデルを採用して考えてみる\n",
    "$$\n",
    "K(x,c) = \\exp (-\\frac{||x-c||^2}{2h^2})\n",
    "$$\n",
    "\n",
    "h : バンド幅、c : ガウス分布の中心"
   ]
  },
  {
   "cell_type": "code",
   "execution_count": 10,
   "id": "b168dfe5",
   "metadata": {},
   "outputs": [],
   "source": [
    "h = 0.3 #ガウス分布のバンド幅\n",
    "e = 0.1 #勾配効果の歩幅\n",
    "thr = 0.000001 # 収束判定閾値\n",
    "num = 2*h**2"
   ]
  },
  {
   "cell_type": "code",
   "execution_count": 8,
   "id": "a4baf345",
   "metadata": {},
   "outputs": [
    {
     "data": {
      "text/plain": [
       "0.18"
      ]
     },
     "execution_count": 8,
     "metadata": {},
     "output_type": "execute_result"
    }
   ],
   "source": []
  },
  {
   "cell_type": "code",
   "execution_count": null,
   "id": "557c2930",
   "metadata": {},
   "outputs": [],
   "source": []
  }
 ],
 "metadata": {
  "kernelspec": {
   "display_name": "Python 3",
   "language": "python",
   "name": "python3"
  },
  "language_info": {
   "codemirror_mode": {
    "name": "ipython",
    "version": 3
   },
   "file_extension": ".py",
   "mimetype": "text/x-python",
   "name": "python",
   "nbconvert_exporter": "python",
   "pygments_lexer": "ipython3",
   "version": "3.9.1"
  }
 },
 "nbformat": 4,
 "nbformat_minor": 5
}
